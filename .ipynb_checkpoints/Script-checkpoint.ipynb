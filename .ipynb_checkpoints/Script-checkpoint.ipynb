{
 "cells": [
  {
   "cell_type": "code",
   "execution_count": 1,
   "metadata": {},
   "outputs": [],
   "source": [
    "import pandas as pd\n",
    "import numpy as np\n",
    "from sklearn.cluster import *\n",
    "from sklearn.metrics import silhouette_score\n",
    "from sklearn.metrics import davies_bouldin_score\n",
    "from ntpath import split, basename\n",
    "from os import stat"
   ]
  },
  {
   "cell_type": "code",
   "execution_count": 2,
   "metadata": {},
   "outputs": [],
   "source": [
    "def readData(path, label_col = None, return_dataframe = False):\n",
    "    dataframe = pd.read_csv(path)\n",
    "    if(label_col is None):\n",
    "        X = dataframe.to_numpy()\n",
    "    else:\n",
    "        X = np.array(dataframe.drop(label_col, axis = 1))\n",
    "    \n",
    "    if(return_dataframe):\n",
    "        return X, dataframe\n",
    "    return X"
   ]
  },
  {
   "cell_type": "code",
   "execution_count": 3,
   "metadata": {},
   "outputs": [],
   "source": [
    "def cluster(method, parameters = {}):\n",
    "    methods = {\"KMeans\" : KMeans,\n",
    "               \"AffinityPropagation\" : AffinityPropagation,\n",
    "               \"AgglomerativeClustering\" : AgglomerativeClustering,\n",
    "               \"Birch\" : Birch,\n",
    "               \"DBSCAN\" : DBSCAN,\n",
    "               \"FeatureAgglomeration\" : FeatureAgglomeration,\n",
    "               \"MiniBatchKMeans\" : MiniBatchKMeans,\n",
    "               \"MeanShift\" : MeanShift,\n",
    "               \"OPTICS\" : OPTICS,\n",
    "               \"SpectralClustering\" : SpectralClustering,\n",
    "               \"SpectralBiclustering\" : SpectralBiclustering,\n",
    "               \"SpectralCoclustering\" : SpectralCoclustering,}\n",
    "               \n",
    "    return methods[method](**parameters)"
   ]
  },
  {
   "cell_type": "code",
   "execution_count": 4,
   "metadata": {},
   "outputs": [],
   "source": [
    "def getScores(X, labels):\n",
    "    slt_score = silhouette_score(X, labels)\n",
    "    db_score = davies_bouldin_score(X, labels)\n",
    "    return (slt_score, db_score)"
   ]
  },
  {
   "cell_type": "code",
   "execution_count": 5,
   "metadata": {},
   "outputs": [],
   "source": [
    "def fileNameFromPath(path):\n",
    "    head, tail = split(path)\n",
    "    return tail or basename(head)"
   ]
  },
  {
   "cell_type": "code",
   "execution_count": 6,
   "metadata": {},
   "outputs": [],
   "source": [
    "def writeData(file_name, method, slt_score, db_score, k = '-', seed = '-'): \n",
    "    file = open(file_name, 'a')\n",
    "    if(stat(file_name).st_size == 0):\n",
    "        file.write(\"method,n_cluster,seed,silhoutte,db\\n\")\n",
    "    \n",
    "    file.write(method + ',' + k + ',' + seed + ',' + slt_score + ',' + db_score + '\\n')\n",
    "    file.close()"
   ]
  },
  {
   "cell_type": "code",
   "execution_count": 7,
   "metadata": {},
   "outputs": [],
   "source": [
    "def analyze(path, method, file_name, parameters = {}, k_range = None, seed_range = None, label_col = None):\n",
    "    dataset = readData(path, label_col)\n",
    "    if(k_range is not None and seed_range is not None):\n",
    "        for x in range(k_range[0], k_range[1]):\n",
    "            if(method == \"SpectralBiclustering\"):\n",
    "                parameters[\"n_clusters\"] = (x, dataset.shape[1])\n",
    "            else:\n",
    "                parameters[\"n_clusters\"] = x\n",
    "            for y in range(seed_range[0], seed_range[1]):\n",
    "                parameters[\"random_state\"] = y\n",
    "                cluster_method = cluster(method, parameters)\n",
    "                cluster_method.fit(dataset)\n",
    "                if(method == \"SpectralBiclustering\" or method == \"SpectralCoclustering\"):\n",
    "                    scores = getScores(dataset, cluster_method.row_labels_)\n",
    "                else:\n",
    "                    scores = getScores(dataset, cluster_method.labels_)\n",
    "                writeData(file_name, method, k = str(x), seed = str(y), slt_score = str(scores[0]), db_score = str(scores[1]))\n",
    "    elif(k_range is not None and seed_range is None):\n",
    "        for x in range(k_range[0], k_range[1]):\n",
    "            parameters[\"n_clusters\"] = x\n",
    "            cluster_method = cluster(method, parameters)\n",
    "            cluster_method.fit(dataset)\n",
    "            scores = getScores(dataset, cluster_method.labels_)\n",
    "            writeData(file_name, method, k = str(x), slt_score = str(scores[0]), db_score = str(scores[1]))\n",
    "    elif(k_range is None and seed_range is not None):\n",
    "        for y in range(seed_range[0], seed_range[1]):\n",
    "            parameters[\"random_state\"] = y\n",
    "            cluster_method = cluster(method, parameters)\n",
    "            cluster_method.fit(dataset)\n",
    "            scores = getScores(dataset, cluster_method.labels_)\n",
    "            writeData(file_name, method, seed = str(y), slt_score = str(scores[0]), db_score = str(scores[1]))\n",
    "    else:\n",
    "        cluster_method = cluster(method, parameters)\n",
    "        cluster_method.fit(dataset)\n",
    "        scores = getScores(dataset, cluster_method.labels_)\n",
    "        writeData(file_name, method, slt_score = str(scores[0]), db_score = str(scores[1]))"
   ]
  },
  {
   "cell_type": "code",
   "execution_count": 8,
   "metadata": {},
   "outputs": [],
   "source": [
    "def analyzeAll(path, k_range = None, seed_range = None, label_col = None):\n",
    "    file_name = fileNameFromPath(path) + '_' + 'k(' + str(k_range[0]) + ',' + str(k_range[1]) + ')' + '_' + 'seed(' + str(seed_range[0]) + ',' + str(seed_range[1]) + ').csv'\n",
    "    have_none = [\"AffinityPropagation\", \"DBSCAN\", \"OPTICS\", \"MeanShift\"]\n",
    "    have_k = [\"AgglomerativeClustering\", \"Birch\"]\n",
    "    have_seed_and_k = [\"KMeans\", \"MiniBatchKMeans\", \"SpectralClustering\", \"SpectralBiclustering\", \"SpectralCoclustering\"]\n",
    "    \n",
    "    for method in have_seed_and_k:\n",
    "        analyze(path, method, file_name, k_range = k_range, seed_range = seed_range, label_col = \"variety\")\n",
    "    for method in have_k:\n",
    "        analyze(path, method, file_name, k_range = k_range, label_col = \"variety\", parameters = {})\n",
    "    for method in have_none:\n",
    "        analyze(path, method, file_name, label_col = \"variety\", parameters = {})"
   ]
  },
  {
   "cell_type": "code",
   "execution_count": 9,
   "metadata": {},
   "outputs": [],
   "source": [
    "def main():\n",
    "    analyzeAll(\"iris.csv\", k_range = (2, 21), seed_range = (1, 21), label_col = \"variety\")"
   ]
  },
  {
   "cell_type": "code",
   "execution_count": 10,
   "metadata": {
    "scrolled": false
   },
   "outputs": [
    {
     "ename": "ValueError",
     "evalue": "n_samples=4 should be >= n_clusters=5",
     "output_type": "error",
     "traceback": [
      "\u001b[1;31m---------------------------------------------------------------------------\u001b[0m",
      "\u001b[1;31mValueError\u001b[0m                                Traceback (most recent call last)",
      "\u001b[1;32m<ipython-input-10-263240bbee7e>\u001b[0m in \u001b[0;36m<module>\u001b[1;34m\u001b[0m\n\u001b[1;32m----> 1\u001b[1;33m \u001b[0mmain\u001b[0m\u001b[1;33m(\u001b[0m\u001b[1;33m)\u001b[0m\u001b[1;33m\u001b[0m\u001b[1;33m\u001b[0m\u001b[0m\n\u001b[0m",
      "\u001b[1;32m<ipython-input-9-3e9787b7da45>\u001b[0m in \u001b[0;36mmain\u001b[1;34m()\u001b[0m\n\u001b[0;32m      1\u001b[0m \u001b[1;32mdef\u001b[0m \u001b[0mmain\u001b[0m\u001b[1;33m(\u001b[0m\u001b[1;33m)\u001b[0m\u001b[1;33m:\u001b[0m\u001b[1;33m\u001b[0m\u001b[1;33m\u001b[0m\u001b[0m\n\u001b[1;32m----> 2\u001b[1;33m     \u001b[0manalyzeAll\u001b[0m\u001b[1;33m(\u001b[0m\u001b[1;34m\"iris.csv\"\u001b[0m\u001b[1;33m,\u001b[0m \u001b[0mk_range\u001b[0m \u001b[1;33m=\u001b[0m \u001b[1;33m(\u001b[0m\u001b[1;36m2\u001b[0m\u001b[1;33m,\u001b[0m \u001b[1;36m21\u001b[0m\u001b[1;33m)\u001b[0m\u001b[1;33m,\u001b[0m \u001b[0mseed_range\u001b[0m \u001b[1;33m=\u001b[0m \u001b[1;33m(\u001b[0m\u001b[1;36m1\u001b[0m\u001b[1;33m,\u001b[0m \u001b[1;36m21\u001b[0m\u001b[1;33m)\u001b[0m\u001b[1;33m,\u001b[0m \u001b[0mlabel_col\u001b[0m \u001b[1;33m=\u001b[0m \u001b[1;34m\"variety\"\u001b[0m\u001b[1;33m)\u001b[0m\u001b[1;33m\u001b[0m\u001b[1;33m\u001b[0m\u001b[0m\n\u001b[0m",
      "\u001b[1;32m<ipython-input-8-fc89ada9c095>\u001b[0m in \u001b[0;36manalyzeAll\u001b[1;34m(path, k_range, seed_range, label_col)\u001b[0m\n\u001b[0;32m      6\u001b[0m \u001b[1;33m\u001b[0m\u001b[0m\n\u001b[0;32m      7\u001b[0m     \u001b[1;32mfor\u001b[0m \u001b[0mmethod\u001b[0m \u001b[1;32min\u001b[0m \u001b[0mhave_seed_and_k\u001b[0m\u001b[1;33m:\u001b[0m\u001b[1;33m\u001b[0m\u001b[1;33m\u001b[0m\u001b[0m\n\u001b[1;32m----> 8\u001b[1;33m         \u001b[0manalyze\u001b[0m\u001b[1;33m(\u001b[0m\u001b[0mpath\u001b[0m\u001b[1;33m,\u001b[0m \u001b[0mmethod\u001b[0m\u001b[1;33m,\u001b[0m \u001b[0mfile_name\u001b[0m\u001b[1;33m,\u001b[0m \u001b[0mk_range\u001b[0m \u001b[1;33m=\u001b[0m \u001b[0mk_range\u001b[0m\u001b[1;33m,\u001b[0m \u001b[0mseed_range\u001b[0m \u001b[1;33m=\u001b[0m \u001b[0mseed_range\u001b[0m\u001b[1;33m,\u001b[0m \u001b[0mlabel_col\u001b[0m \u001b[1;33m=\u001b[0m \u001b[1;34m\"variety\"\u001b[0m\u001b[1;33m)\u001b[0m\u001b[1;33m\u001b[0m\u001b[1;33m\u001b[0m\u001b[0m\n\u001b[0m\u001b[0;32m      9\u001b[0m     \u001b[1;32mfor\u001b[0m \u001b[0mmethod\u001b[0m \u001b[1;32min\u001b[0m \u001b[0mhave_k\u001b[0m\u001b[1;33m:\u001b[0m\u001b[1;33m\u001b[0m\u001b[1;33m\u001b[0m\u001b[0m\n\u001b[0;32m     10\u001b[0m         \u001b[0manalyze\u001b[0m\u001b[1;33m(\u001b[0m\u001b[0mpath\u001b[0m\u001b[1;33m,\u001b[0m \u001b[0mmethod\u001b[0m\u001b[1;33m,\u001b[0m \u001b[0mfile_name\u001b[0m\u001b[1;33m,\u001b[0m \u001b[0mk_range\u001b[0m \u001b[1;33m=\u001b[0m \u001b[0mk_range\u001b[0m\u001b[1;33m,\u001b[0m \u001b[0mlabel_col\u001b[0m \u001b[1;33m=\u001b[0m \u001b[1;34m\"variety\"\u001b[0m\u001b[1;33m,\u001b[0m \u001b[0mparameters\u001b[0m \u001b[1;33m=\u001b[0m \u001b[1;33m{\u001b[0m\u001b[1;33m}\u001b[0m\u001b[1;33m)\u001b[0m\u001b[1;33m\u001b[0m\u001b[1;33m\u001b[0m\u001b[0m\n",
      "\u001b[1;32m<ipython-input-7-7cbf90036283>\u001b[0m in \u001b[0;36manalyze\u001b[1;34m(path, method, file_name, parameters, k_range, seed_range, label_col)\u001b[0m\n\u001b[0;32m      7\u001b[0m                 \u001b[0mparameters\u001b[0m\u001b[1;33m[\u001b[0m\u001b[1;34m\"random_state\"\u001b[0m\u001b[1;33m]\u001b[0m \u001b[1;33m=\u001b[0m \u001b[0my\u001b[0m\u001b[1;33m\u001b[0m\u001b[1;33m\u001b[0m\u001b[0m\n\u001b[0;32m      8\u001b[0m                 \u001b[0mcluster_method\u001b[0m \u001b[1;33m=\u001b[0m \u001b[0mcluster\u001b[0m\u001b[1;33m(\u001b[0m\u001b[0mmethod\u001b[0m\u001b[1;33m,\u001b[0m \u001b[0mparameters\u001b[0m\u001b[1;33m)\u001b[0m\u001b[1;33m\u001b[0m\u001b[1;33m\u001b[0m\u001b[0m\n\u001b[1;32m----> 9\u001b[1;33m                 \u001b[0mcluster_method\u001b[0m\u001b[1;33m.\u001b[0m\u001b[0mfit\u001b[0m\u001b[1;33m(\u001b[0m\u001b[0mdataset\u001b[0m\u001b[1;33m)\u001b[0m\u001b[1;33m\u001b[0m\u001b[1;33m\u001b[0m\u001b[0m\n\u001b[0m\u001b[0;32m     10\u001b[0m                 \u001b[1;32mif\u001b[0m\u001b[1;33m(\u001b[0m\u001b[0mmethod\u001b[0m \u001b[1;33m==\u001b[0m \u001b[1;34m\"SpectralBiclustering\"\u001b[0m \u001b[1;32mor\u001b[0m \u001b[0mmethod\u001b[0m \u001b[1;33m==\u001b[0m \u001b[1;34m\"SpectralCoclustering\"\u001b[0m\u001b[1;33m)\u001b[0m\u001b[1;33m:\u001b[0m\u001b[1;33m\u001b[0m\u001b[1;33m\u001b[0m\u001b[0m\n\u001b[0;32m     11\u001b[0m                     \u001b[0mscores\u001b[0m \u001b[1;33m=\u001b[0m \u001b[0mgetScores\u001b[0m\u001b[1;33m(\u001b[0m\u001b[0mdataset\u001b[0m\u001b[1;33m,\u001b[0m \u001b[0mcluster_method\u001b[0m\u001b[1;33m.\u001b[0m\u001b[0mrow_labels_\u001b[0m\u001b[1;33m)\u001b[0m\u001b[1;33m\u001b[0m\u001b[1;33m\u001b[0m\u001b[0m\n",
      "\u001b[1;32m~\\anaconda3\\lib\\site-packages\\sklearn\\cluster\\_bicluster.py\u001b[0m in \u001b[0;36mfit\u001b[1;34m(self, X, y)\u001b[0m\n\u001b[0;32m    118\u001b[0m         \u001b[0mX\u001b[0m \u001b[1;33m=\u001b[0m \u001b[0mcheck_array\u001b[0m\u001b[1;33m(\u001b[0m\u001b[0mX\u001b[0m\u001b[1;33m,\u001b[0m \u001b[0maccept_sparse\u001b[0m\u001b[1;33m=\u001b[0m\u001b[1;34m'csr'\u001b[0m\u001b[1;33m,\u001b[0m \u001b[0mdtype\u001b[0m\u001b[1;33m=\u001b[0m\u001b[0mnp\u001b[0m\u001b[1;33m.\u001b[0m\u001b[0mfloat64\u001b[0m\u001b[1;33m)\u001b[0m\u001b[1;33m\u001b[0m\u001b[1;33m\u001b[0m\u001b[0m\n\u001b[0;32m    119\u001b[0m         \u001b[0mself\u001b[0m\u001b[1;33m.\u001b[0m\u001b[0m_check_parameters\u001b[0m\u001b[1;33m(\u001b[0m\u001b[1;33m)\u001b[0m\u001b[1;33m\u001b[0m\u001b[1;33m\u001b[0m\u001b[0m\n\u001b[1;32m--> 120\u001b[1;33m         \u001b[0mself\u001b[0m\u001b[1;33m.\u001b[0m\u001b[0m_fit\u001b[0m\u001b[1;33m(\u001b[0m\u001b[0mX\u001b[0m\u001b[1;33m)\u001b[0m\u001b[1;33m\u001b[0m\u001b[1;33m\u001b[0m\u001b[0m\n\u001b[0m\u001b[0;32m    121\u001b[0m         \u001b[1;32mreturn\u001b[0m \u001b[0mself\u001b[0m\u001b[1;33m\u001b[0m\u001b[1;33m\u001b[0m\u001b[0m\n\u001b[0;32m    122\u001b[0m \u001b[1;33m\u001b[0m\u001b[0m\n",
      "\u001b[1;32m~\\anaconda3\\lib\\site-packages\\sklearn\\cluster\\_bicluster.py\u001b[0m in \u001b[0;36m_fit\u001b[1;34m(self, X)\u001b[0m\n\u001b[0;32m    492\u001b[0m \u001b[1;33m\u001b[0m\u001b[0m\n\u001b[0;32m    493\u001b[0m         best_vt = self._fit_best_piecewise(vt, self.n_best,\n\u001b[1;32m--> 494\u001b[1;33m                                            n_col_clusters)\n\u001b[0m\u001b[0;32m    495\u001b[0m \u001b[1;33m\u001b[0m\u001b[0m\n\u001b[0;32m    496\u001b[0m         self.row_labels_ = self._project_and_cluster(X, best_vt.T,\n",
      "\u001b[1;32m~\\anaconda3\\lib\\site-packages\\sklearn\\cluster\\_bicluster.py\u001b[0m in \u001b[0;36m_fit_best_piecewise\u001b[1;34m(self, vectors, n_best, n_clusters)\u001b[0m\n\u001b[0;32m    519\u001b[0m             \u001b[1;32mreturn\u001b[0m \u001b[0mcentroid\u001b[0m\u001b[1;33m[\u001b[0m\u001b[0mlabels\u001b[0m\u001b[1;33m]\u001b[0m\u001b[1;33m.\u001b[0m\u001b[0mravel\u001b[0m\u001b[1;33m(\u001b[0m\u001b[1;33m)\u001b[0m\u001b[1;33m\u001b[0m\u001b[1;33m\u001b[0m\u001b[0m\n\u001b[0;32m    520\u001b[0m         piecewise_vectors = np.apply_along_axis(make_piecewise,\n\u001b[1;32m--> 521\u001b[1;33m                                                 axis=1, arr=vectors)\n\u001b[0m\u001b[0;32m    522\u001b[0m         dists = np.apply_along_axis(norm, axis=1,\n\u001b[0;32m    523\u001b[0m                                     arr=(vectors - piecewise_vectors))\n",
      "\u001b[1;32m<__array_function__ internals>\u001b[0m in \u001b[0;36mapply_along_axis\u001b[1;34m(*args, **kwargs)\u001b[0m\n",
      "\u001b[1;32m~\\anaconda3\\lib\\site-packages\\numpy\\lib\\shape_base.py\u001b[0m in \u001b[0;36mapply_along_axis\u001b[1;34m(func1d, axis, arr, *args, **kwargs)\u001b[0m\n\u001b[0;32m    377\u001b[0m     \u001b[1;32mexcept\u001b[0m \u001b[0mStopIteration\u001b[0m\u001b[1;33m:\u001b[0m\u001b[1;33m\u001b[0m\u001b[1;33m\u001b[0m\u001b[0m\n\u001b[0;32m    378\u001b[0m         \u001b[1;32mraise\u001b[0m \u001b[0mValueError\u001b[0m\u001b[1;33m(\u001b[0m\u001b[1;34m'Cannot apply_along_axis when any iteration dimensions are 0'\u001b[0m\u001b[1;33m)\u001b[0m\u001b[1;33m\u001b[0m\u001b[1;33m\u001b[0m\u001b[0m\n\u001b[1;32m--> 379\u001b[1;33m     \u001b[0mres\u001b[0m \u001b[1;33m=\u001b[0m \u001b[0masanyarray\u001b[0m\u001b[1;33m(\u001b[0m\u001b[0mfunc1d\u001b[0m\u001b[1;33m(\u001b[0m\u001b[0minarr_view\u001b[0m\u001b[1;33m[\u001b[0m\u001b[0mind0\u001b[0m\u001b[1;33m]\u001b[0m\u001b[1;33m,\u001b[0m \u001b[1;33m*\u001b[0m\u001b[0margs\u001b[0m\u001b[1;33m,\u001b[0m \u001b[1;33m**\u001b[0m\u001b[0mkwargs\u001b[0m\u001b[1;33m)\u001b[0m\u001b[1;33m)\u001b[0m\u001b[1;33m\u001b[0m\u001b[1;33m\u001b[0m\u001b[0m\n\u001b[0m\u001b[0;32m    380\u001b[0m \u001b[1;33m\u001b[0m\u001b[0m\n\u001b[0;32m    381\u001b[0m     \u001b[1;31m# build a buffer for storing evaluations of func1d.\u001b[0m\u001b[1;33m\u001b[0m\u001b[1;33m\u001b[0m\u001b[1;33m\u001b[0m\u001b[0m\n",
      "\u001b[1;32m~\\anaconda3\\lib\\site-packages\\sklearn\\cluster\\_bicluster.py\u001b[0m in \u001b[0;36mmake_piecewise\u001b[1;34m(v)\u001b[0m\n\u001b[0;32m    516\u001b[0m         \"\"\"\n\u001b[0;32m    517\u001b[0m         \u001b[1;32mdef\u001b[0m \u001b[0mmake_piecewise\u001b[0m\u001b[1;33m(\u001b[0m\u001b[0mv\u001b[0m\u001b[1;33m)\u001b[0m\u001b[1;33m:\u001b[0m\u001b[1;33m\u001b[0m\u001b[1;33m\u001b[0m\u001b[0m\n\u001b[1;32m--> 518\u001b[1;33m             \u001b[0mcentroid\u001b[0m\u001b[1;33m,\u001b[0m \u001b[0mlabels\u001b[0m \u001b[1;33m=\u001b[0m \u001b[0mself\u001b[0m\u001b[1;33m.\u001b[0m\u001b[0m_k_means\u001b[0m\u001b[1;33m(\u001b[0m\u001b[0mv\u001b[0m\u001b[1;33m.\u001b[0m\u001b[0mreshape\u001b[0m\u001b[1;33m(\u001b[0m\u001b[1;33m-\u001b[0m\u001b[1;36m1\u001b[0m\u001b[1;33m,\u001b[0m \u001b[1;36m1\u001b[0m\u001b[1;33m)\u001b[0m\u001b[1;33m,\u001b[0m \u001b[0mn_clusters\u001b[0m\u001b[1;33m)\u001b[0m\u001b[1;33m\u001b[0m\u001b[1;33m\u001b[0m\u001b[0m\n\u001b[0m\u001b[0;32m    519\u001b[0m             \u001b[1;32mreturn\u001b[0m \u001b[0mcentroid\u001b[0m\u001b[1;33m[\u001b[0m\u001b[0mlabels\u001b[0m\u001b[1;33m]\u001b[0m\u001b[1;33m.\u001b[0m\u001b[0mravel\u001b[0m\u001b[1;33m(\u001b[0m\u001b[1;33m)\u001b[0m\u001b[1;33m\u001b[0m\u001b[1;33m\u001b[0m\u001b[0m\n\u001b[0;32m    520\u001b[0m         piecewise_vectors = np.apply_along_axis(make_piecewise,\n",
      "\u001b[1;32m~\\anaconda3\\lib\\site-packages\\sklearn\\cluster\\_bicluster.py\u001b[0m in \u001b[0;36m_k_means\u001b[1;34m(self, data, n_clusters)\u001b[0m\n\u001b[0;32m    169\u001b[0m                            \u001b[0mn_init\u001b[0m\u001b[1;33m=\u001b[0m\u001b[0mself\u001b[0m\u001b[1;33m.\u001b[0m\u001b[0mn_init\u001b[0m\u001b[1;33m,\u001b[0m \u001b[0mn_jobs\u001b[0m\u001b[1;33m=\u001b[0m\u001b[0mself\u001b[0m\u001b[1;33m.\u001b[0m\u001b[0mn_jobs\u001b[0m\u001b[1;33m,\u001b[0m\u001b[1;33m\u001b[0m\u001b[1;33m\u001b[0m\u001b[0m\n\u001b[0;32m    170\u001b[0m                            random_state=self.random_state)\n\u001b[1;32m--> 171\u001b[1;33m         \u001b[0mmodel\u001b[0m\u001b[1;33m.\u001b[0m\u001b[0mfit\u001b[0m\u001b[1;33m(\u001b[0m\u001b[0mdata\u001b[0m\u001b[1;33m)\u001b[0m\u001b[1;33m\u001b[0m\u001b[1;33m\u001b[0m\u001b[0m\n\u001b[0m\u001b[0;32m    172\u001b[0m         \u001b[0mcentroid\u001b[0m \u001b[1;33m=\u001b[0m \u001b[0mmodel\u001b[0m\u001b[1;33m.\u001b[0m\u001b[0mcluster_centers_\u001b[0m\u001b[1;33m\u001b[0m\u001b[1;33m\u001b[0m\u001b[0m\n\u001b[0;32m    173\u001b[0m         \u001b[0mlabels\u001b[0m \u001b[1;33m=\u001b[0m \u001b[0mmodel\u001b[0m\u001b[1;33m.\u001b[0m\u001b[0mlabels_\u001b[0m\u001b[1;33m\u001b[0m\u001b[1;33m\u001b[0m\u001b[0m\n",
      "\u001b[1;32m~\\anaconda3\\lib\\site-packages\\sklearn\\cluster\\_kmeans.py\u001b[0m in \u001b[0;36mfit\u001b[1;34m(self, X, y, sample_weight)\u001b[0m\n\u001b[0;32m    861\u001b[0m         \u001b[1;32mif\u001b[0m \u001b[0m_num_samples\u001b[0m\u001b[1;33m(\u001b[0m\u001b[0mX\u001b[0m\u001b[1;33m)\u001b[0m \u001b[1;33m<\u001b[0m \u001b[0mself\u001b[0m\u001b[1;33m.\u001b[0m\u001b[0mn_clusters\u001b[0m\u001b[1;33m:\u001b[0m\u001b[1;33m\u001b[0m\u001b[1;33m\u001b[0m\u001b[0m\n\u001b[0;32m    862\u001b[0m             raise ValueError(\"n_samples=%d should be >= n_clusters=%d\" % (\n\u001b[1;32m--> 863\u001b[1;33m                 _num_samples(X), self.n_clusters))\n\u001b[0m\u001b[0;32m    864\u001b[0m \u001b[1;33m\u001b[0m\u001b[0m\n\u001b[0;32m    865\u001b[0m         \u001b[0mtol\u001b[0m \u001b[1;33m=\u001b[0m \u001b[0m_tolerance\u001b[0m\u001b[1;33m(\u001b[0m\u001b[0mX\u001b[0m\u001b[1;33m,\u001b[0m \u001b[0mself\u001b[0m\u001b[1;33m.\u001b[0m\u001b[0mtol\u001b[0m\u001b[1;33m)\u001b[0m\u001b[1;33m\u001b[0m\u001b[1;33m\u001b[0m\u001b[0m\n",
      "\u001b[1;31mValueError\u001b[0m: n_samples=4 should be >= n_clusters=5"
     ]
    }
   ],
   "source": [
    "main()"
   ]
  }
 ],
 "metadata": {
  "kernelspec": {
   "display_name": "Python 3",
   "language": "python",
   "name": "python3"
  },
  "language_info": {
   "codemirror_mode": {
    "name": "ipython",
    "version": 3
   },
   "file_extension": ".py",
   "mimetype": "text/x-python",
   "name": "python",
   "nbconvert_exporter": "python",
   "pygments_lexer": "ipython3",
   "version": "3.7.6"
  }
 },
 "nbformat": 4,
 "nbformat_minor": 4
}
