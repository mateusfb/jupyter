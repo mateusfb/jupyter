{
 "cells": [
  {
   "cell_type": "code",
   "execution_count": 1,
   "metadata": {},
   "outputs": [],
   "source": [
    "import pandas as pd\n",
    "import numpy as np\n",
    "from sklearn.cluster import *\n",
    "from sklearn.metrics import silhouette_score\n",
    "from sklearn.metrics import davies_bouldin_score"
   ]
  },
  {
   "cell_type": "code",
   "execution_count": 2,
   "metadata": {},
   "outputs": [],
   "source": [
    "def readData(path, label_col, labeled = 0):\n",
    "    dataframe = pd.read_csv(path)\n",
    "    if(labeled is 0):\n",
    "        X = dataframe.to_numpy()\n",
    "    else:\n",
    "        X = np.array(dataframe.drop(label_col, axis = 1))\n",
    "    return X"
   ]
  },
  {
   "cell_type": "code",
   "execution_count": 3,
   "metadata": {},
   "outputs": [],
   "source": [
    "def cluster(method, **parameters):\n",
    "    \"\"\"\n",
    "    methods = {'KMeans' : KMeans,\n",
    "               'AffinityPropagation' : AffinityPropagation,\n",
    "               'AgglormerativeClustering' : AgglomerativeClustering,\n",
    "               'Birch' : Birch,\n",
    "               'DBSCAN' : DBSCAN,\n",
    "               'FeatureAgglomeration' : FeatureAgglomeration,\n",
    "               'MiniBatchKMeans' : MiniBatchKMeans,\n",
    "               'MeanShift' : MeanShift,\n",
    "               'OPTICS' : OPTICS,\n",
    "               'SpectralClustering' : SpectralClustering,\n",
    "               'SpectralBiclustering' : SpectralBiclustering,\n",
    "               'SpectralCoclustering' : SpectralCoclustering,}\n",
    "    \"\"\"\n",
    "    return method(**parameters)"
   ]
  },
  {
   "cell_type": "code",
   "execution_count": 4,
   "metadata": {},
   "outputs": [],
   "source": [
    "def getScores(X, labels):\n",
    "    slt_score = silhouette_score(X, labels)\n",
    "    db_score = davies_bouldin_score(X, labels)\n",
    "    return (slt_score, db_score)"
   ]
  },
  {
   "cell_type": "code",
   "execution_count": 5,
   "metadata": {},
   "outputs": [],
   "source": [
    "def main():\n",
    "    dataset = readData(\"iris.csv\", \"variety\", labeled=1)\n",
    "    cluster_method = cluster(KMeans, **{'n_clusters' : 3})\n",
    "    cluster_method.fit(dataset)\n",
    "    print(cluster_method.labels_)\n",
    "    print(getScores(dataset, cluster_method.labels_))"
   ]
  },
  {
   "cell_type": "code",
   "execution_count": 6,
   "metadata": {},
   "outputs": [
    {
     "name": "stdout",
     "output_type": "stream",
     "text": [
      "[1 1 1 1 1 1 1 1 1 1 1 1 1 1 1 1 1 1 1 1 1 1 1 1 1 1 1 1 1 1 1 1 1 1 1 1 1\n",
      " 1 1 1 1 1 1 1 1 1 1 1 1 1 0 0 2 0 0 0 0 0 0 0 0 0 0 0 0 0 0 0 0 0 0 0 0 0\n",
      " 0 0 0 2 0 0 0 0 0 0 0 0 0 0 0 0 0 0 0 0 0 0 0 0 0 0 2 0 2 2 2 2 0 2 2 2 2\n",
      " 2 2 0 0 2 2 2 2 0 2 0 2 0 2 2 0 0 2 2 2 2 2 0 2 2 2 2 0 2 2 2 0 2 2 2 0 2\n",
      " 2 0]\n",
      "(0.5528190123564101, 0.6619715465007542)\n"
     ]
    }
   ],
   "source": [
    "main()"
   ]
  },
  {
   "cell_type": "code",
   "execution_count": null,
   "metadata": {},
   "outputs": [],
   "source": []
  }
 ],
 "metadata": {
  "kernelspec": {
   "display_name": "Python 3",
   "language": "python",
   "name": "python3"
  },
  "language_info": {
   "codemirror_mode": {
    "name": "ipython",
    "version": 3
   },
   "file_extension": ".py",
   "mimetype": "text/x-python",
   "name": "python",
   "nbconvert_exporter": "python",
   "pygments_lexer": "ipython3",
   "version": "3.7.6"
  }
 },
 "nbformat": 4,
 "nbformat_minor": 4
}
